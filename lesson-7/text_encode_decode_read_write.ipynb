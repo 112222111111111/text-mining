{
 "cells": [
  {
   "cell_type": "markdown",
   "metadata": {},
   "source": [
    "#### 1. Python字符编码转换"
   ]
  },
  {
   "cell_type": "markdown",
   "metadata": {},
   "source": [
    "##### （1）.chr()方法:将十进制数转化为字符"
   ]
  },
  {
   "cell_type": "code",
   "execution_count": 1,
   "metadata": {},
   "outputs": [
    {
     "data": {
      "text/plain": [
       "'A'"
      ]
     },
     "execution_count": 1,
     "metadata": {},
     "output_type": "execute_result"
    }
   ],
   "source": [
    "chr(65)"
   ]
  },
  {
   "cell_type": "code",
   "execution_count": 2,
   "metadata": {},
   "outputs": [
    {
     "name": "stdout",
     "output_type": "stream",
     "text": [
      "ASCII码：\n",
      " ['\\x00', '\\x01', '\\x02', '\\x03', '\\x04', '\\x05', '\\x06', '\\x07', '\\x08', '\\t', '\\n', '\\x0b', '\\x0c', '\\r', '\\x0e', '\\x0f', '\\x10', '\\x11', '\\x12', '\\x13', '\\x14', '\\x15', '\\x16', '\\x17', '\\x18', '\\x19', '\\x1a', '\\x1b', '\\x1c', '\\x1d', '\\x1e', '\\x1f', ' ', '!', '\"', '#', '$', '%', '&', \"'\", '(', ')', '*', '+', ',', '-', '.', '/', '0', '1', '2', '3', '4', '5', '6', '7', '8', '9', ':', ';', '<', '=', '>', '?', '@', 'A', 'B', 'C', 'D', 'E', 'F', 'G', 'H', 'I', 'J', 'K', 'L', 'M', 'N', 'O', 'P', 'Q', 'R', 'S', 'T', 'U', 'V', 'W', 'X', 'Y', 'Z', '[', '\\\\', ']', '^', '_', '`', 'a', 'b', 'c', 'd', 'e', 'f', 'g', 'h', 'i', 'j', 'k', 'l', 'm', 'n', 'o', 'p', 'q', 'r', 's', 't', 'u', 'v', 'w', 'x', 'y', 'z', '{', '|', '}', '~', '\\x7f']\n",
      "\n",
      "英文标点符号：\n",
      " ['!', '\"', '#', '$', '%', '&', \"'\", '(', ')', '*', '+', ',', '-', '.', '/', ':', ';', '<', '=', '>', '?', '@', '[', '\\\\', ']', '^', '_', '`', '{', '|', '}', '~']\n"
     ]
    }
   ],
   "source": [
    "#获取ascii码基础编码\n",
    "ascii_chars = []\n",
    "punctuation_chars = []\n",
    "for i in range(128):\n",
    "    ascii_chars.append(chr(i))\n",
    "    if ((i >= 33 and i <= 47) or (i >= 58 and i <= 64) or \\\n",
    "        (i >= 91 and i <= 96) or (i >= 123 and i <= 126)):\n",
    "        punctuation_chars.append(chr(i))\n",
    "print(\"ASCII码：\\n\",ascii_chars)\n",
    "print()\n",
    "print(\"英文标点符号：\\n\",punctuation_chars)"
   ]
  },
  {
   "cell_type": "code",
   "execution_count": 3,
   "metadata": {},
   "outputs": [
    {
     "name": "stdout",
     "output_type": "stream",
     "text": [
      "中文简体汉字20896个\n",
      "其中前100个: ['一', '丁', '丂', '七', '丄', '丅', '丆', '万', '丈', '三', '上', '下', '丌', '不', '与', '丏', '丐', '丑', '丒', '专', '且', '丕', '世', '丗', '丘', '丙', '业', '丛', '东', '丝', '丞', '丟', '丠', '両', '丢', '丣', '两', '严', '並', '丧', '丨', '丩', '个', '丫', '丬', '中', '丮', '丯', '丰', '丱', '串', '丳', '临', '丵', '丶', '丷', '丸', '丹', '为', '主', '丼', '丽', '举', '丿', '乀', '乁', '乂', '乃', '乄', '久', '乆', '乇', '么', '义', '乊', '之', '乌', '乍', '乎', '乏', '乐', '乑', '乒', '乓', '乔', '乕', '乖', '乗', '乘', '乙', '乚', '乛', '乜', '九', '乞', '也', '习', '乡', '乢', '乣']\n"
     ]
    }
   ],
   "source": [
    "#获取汉字列表\n",
    "#(0x4E00, 0x9FFF)\n",
    "#(0x3400, 0x4DBF)\n",
    "#(0x20000, 0x2A6DF)\n",
    "#(0x2A700, 0x2B73F)\n",
    "#(0x2B740, 0x2B81F)\n",
    "#(0x2B820, 0x2CEAF)\n",
    "#(0xF900, 0xFAFF)\n",
    "#(0x2F800, 0x2FA1F)\n",
    "#以上编码区间范围代表中日韩等文字编码，可以打印出相应字符进行观察\n",
    "chinese_words_chars = []\n",
    "for i in range(0x4e00,0x9fa0):\n",
    "    chinese_words_chars.append(chr(i))\n",
    "print(\"中文简体汉字%d个\" % len(chinese_words_chars))\n",
    "print(\"其中前100个:\",chinese_words_chars[:100])"
   ]
  },
  {
   "cell_type": "markdown",
   "metadata": {},
   "source": [
    "##### （2）.ord():将字符转化为十进制数"
   ]
  },
  {
   "cell_type": "code",
   "execution_count": 4,
   "metadata": {},
   "outputs": [
    {
     "data": {
      "text/plain": [
       "65"
      ]
     },
     "execution_count": 4,
     "metadata": {},
     "output_type": "execute_result"
    }
   ],
   "source": [
    "ord('A')"
   ]
  },
  {
   "cell_type": "markdown",
   "metadata": {},
   "source": [
    "##### (3) 字符串的utf-8，gbk与unicode格式的编码和解码"
   ]
  },
  {
   "cell_type": "code",
   "execution_count": 5,
   "metadata": {},
   "outputs": [
    {
     "data": {
      "text/plain": [
       "'utf-8'"
      ]
     },
     "execution_count": 5,
     "metadata": {},
     "output_type": "execute_result"
    }
   ],
   "source": [
    "import sys\n",
    "#获取python编译环境默认字符编码格式\n",
    "sys.getdefaultencoding()"
   ]
  },
  {
   "cell_type": "code",
   "execution_count": 6,
   "metadata": {},
   "outputs": [
    {
     "data": {
      "text/plain": [
       "b'\\xe4\\xb8\\xad\\xe6\\x96\\x87'"
      ]
     },
     "execution_count": 6,
     "metadata": {},
     "output_type": "execute_result"
    }
   ],
   "source": [
    "#获取中文字符串的utf-8的字节编码\n",
    "'中文'.encode()"
   ]
  },
  {
   "cell_type": "code",
   "execution_count": 7,
   "metadata": {},
   "outputs": [
    {
     "data": {
      "text/plain": [
       "b'\\xd6\\xd0\\xce\\xc4'"
      ]
     },
     "execution_count": 7,
     "metadata": {},
     "output_type": "execute_result"
    }
   ],
   "source": [
    "#获取中文字符串的gbk的字节编码\n",
    "'中文'.encode('gbk')"
   ]
  },
  {
   "cell_type": "code",
   "execution_count": 8,
   "metadata": {},
   "outputs": [
    {
     "data": {
      "text/plain": [
       "'中文'"
      ]
     },
     "execution_count": 8,
     "metadata": {},
     "output_type": "execute_result"
    }
   ],
   "source": [
    "#将utf-8的字节编码解码为字符串\n",
    "b'\\xe4\\xb8\\xad\\xe6\\x96\\x87'.decode()"
   ]
  },
  {
   "cell_type": "code",
   "execution_count": 1,
   "metadata": {},
   "outputs": [
    {
     "data": {
      "text/plain": [
       "'中文'"
      ]
     },
     "execution_count": 1,
     "metadata": {},
     "output_type": "execute_result"
    }
   ],
   "source": [
    "#将gbk的字节编码解码为字符串\n",
    "b'\\xd6\\xd0\\xce\\xc4'.decode('gbk')"
   ]
  },
  {
   "cell_type": "code",
   "execution_count": 10,
   "metadata": {},
   "outputs": [
    {
     "data": {
      "text/plain": [
       "b'\\\\u4e2d\\\\u6587'"
      ]
     },
     "execution_count": 10,
     "metadata": {},
     "output_type": "execute_result"
    }
   ],
   "source": [
    "#获取中文编码的unicode编码\n",
    "'中文'.encode('unicode-escape')"
   ]
  },
  {
   "cell_type": "code",
   "execution_count": 11,
   "metadata": {},
   "outputs": [
    {
     "data": {
      "text/plain": [
       "'中文'"
      ]
     },
     "execution_count": 11,
     "metadata": {},
     "output_type": "execute_result"
    }
   ],
   "source": [
    "#将中文字符串的unicode编码解码为中文字符串\n",
    "b'\\\\u4e2d\\\\u6587'.decode('unicode-escape')"
   ]
  },
  {
   "cell_type": "code",
   "execution_count": 12,
   "metadata": {},
   "outputs": [
    {
     "data": {
      "text/plain": [
       "'A'"
      ]
     },
     "execution_count": 12,
     "metadata": {},
     "output_type": "execute_result"
    }
   ],
   "source": [
    "#将标准字符的utf-8字节编码解码为字符\n",
    "b'\\x41'.decode()"
   ]
  },
  {
   "cell_type": "markdown",
   "metadata": {},
   "source": [
    "#### 2. 文本文件存储格式与读写"
   ]
  },
  {
   "cell_type": "code",
   "execution_count": 2,
   "metadata": {},
   "outputs": [],
   "source": [
    "comments = [\n",
    "    {\n",
    "        \"review_id\": \"27248\", \n",
    "        \"date\": \"2010-02-22\", \n",
    "        \"reviewer_id\": \"18328\", \n",
    "        \"city\": \"austin\", \n",
    "        \"comments\": \"Another fantastic stay! Sylvia is a great host.\"\n",
    "    },\n",
    "    {\n",
    "        \"review_id\": \"52212\", \n",
    "        \"date\": \"2010-06-12\", \n",
    "        \"reviewer_id\": \"21519\", \n",
    "        \"city\": \"austin\", \n",
    "        \"comments\": \"This was my second time staying with Sylvia and it was as lovely as the first. Extra thanks to Sylvia for offering to drive me to the grocery store and for being so understanding about a check out time mix up that was totally my fault. Sylvia is an excellent hostess and the apartment is gracious and charming. Thank you again, Sylvia :)\"\n",
    "    },\n",
    "    {\n",
    "        \"review_id\": \"78498089\", \n",
    "        \"date\": \"2016-06-07\", \n",
    "        \"reviewer_id\": \"116876\", \n",
    "        \"city\": \"austin\", \n",
    "        \"comments\": \"Sylvia's place is one of my favorites to stay in. It's always perfect and she was so communicative and helpful with my additional guest. Simply the best.\"\n",
    "    } \n",
    "]"
   ]
  },
  {
   "cell_type": "markdown",
   "metadata": {},
   "source": [
    "##### (1)自定义格式，方法灵活，适合对大规模数据进行存储"
   ]
  },
  {
   "cell_type": "markdown",
   "metadata": {},
   "source": [
    "写自定义格式文本文件"
   ]
  },
  {
   "cell_type": "code",
   "execution_count": 3,
   "metadata": {},
   "outputs": [],
   "source": [
    "#每行写一条数据，使用制表符\\t分隔数据项\n",
    "f = open('comments.txt','w',encoding='utf-8')\n",
    "heads = ['review_id', 'date', 'reviewer_id', 'city', 'comments']\n",
    "for comment in comments:\n",
    "    item_list = []\n",
    "    for key in heads:\n",
    "        item_list.append(comment[key])\n",
    "    f.write('\\t'.join(item_list)+'\\n') #.join()表示使用'\\t'拼接list\n",
    "f.close()"
   ]
  },
  {
   "cell_type": "markdown",
   "metadata": {},
   "source": [
    "###### 读自定义格式文本文件"
   ]
  },
  {
   "cell_type": "code",
   "execution_count": 4,
   "metadata": {},
   "outputs": [
    {
     "name": "stdout",
     "output_type": "stream",
     "text": [
      "[{'review_id': '27248', 'date': '2010-02-22', 'reviewer_id': '18328', 'city': 'austin', 'comments': 'Another fantastic stay! Sylvia is a great host.'}, {'review_id': '52212', 'date': '2010-06-12', 'reviewer_id': '21519', 'city': 'austin', 'comments': 'This was my second time staying with Sylvia and it was as lovely as the first. Extra thanks to Sylvia for offering to drive me to the grocery store and for being so understanding about a check out time mix up that was totally my fault. Sylvia is an excellent hostess and the apartment is gracious and charming. Thank you again, Sylvia :)'}, {'review_id': '78498089', 'date': '2016-06-07', 'reviewer_id': '116876', 'city': 'austin', 'comments': \"Sylvia's place is one of my favorites to stay in. It's always perfect and she was so communicative and helpful with my additional guest. Simply the best.\"}]\n"
     ]
    }
   ],
   "source": [
    "comments = []\n",
    "heads = ['review_id', 'date', 'reviewer_id', 'city', 'comments']\n",
    "with open('comments.txt','r',encoding='utf-8') as f:\n",
    "    for line in f:  #按行读取文本文件\n",
    "        ls = line.split('\\t') #对每行文本以'\\t'切分，返回切分得到的list\n",
    "        comment = {}\n",
    "        for i in range(len(heads)): #按顺序，将切分每行文本得到的list的元素组合成dict\n",
    "            comment[heads[i]]=ls[i].strip()\n",
    "        comments.append(comment)\n",
    "print(comments)"
   ]
  },
  {
   "cell_type": "markdown",
   "metadata": {},
   "source": [
    "##### (2)CSV格式"
   ]
  },
  {
   "cell_type": "markdown",
   "metadata": {},
   "source": [
    "使用csv package写csv格式文件"
   ]
  },
  {
   "cell_type": "code",
   "execution_count": 5,
   "metadata": {},
   "outputs": [],
   "source": [
    "#windows的换行符是\\r\\n\n",
    "#linux的默认换行符是\\n\n",
    "#MacOS的默认换行符是\\r\n",
    "import csv\n",
    "f = open('comments.csv','w',encoding='utf-8',newline='')  \n",
    "#csv标准库中的writerow在写入文件时会加入'\\r\\n'作为换行符，\n",
    "#如果newline=None，代写文本的\\n会被替换成系统的默认换行符，在windows系统内就是\\r\\n\n",
    "#使用csv模块读写文件时，一般将newline=''\n",
    "heads = ['review_id', 'date', 'reviewer_id', 'city', 'comments']\n",
    "writer = csv.DictWriter(f, fieldnames=heads)\n",
    "writer.writeheader()  #在csv首行写列名\n",
    "for comment in comments: \n",
    "    writer.writerow(comment) \n",
    "f.close()"
   ]
  },
  {
   "cell_type": "markdown",
   "metadata": {},
   "source": [
    "使用csv package读csv格式文件"
   ]
  },
  {
   "cell_type": "code",
   "execution_count": 6,
   "metadata": {},
   "outputs": [
    {
     "name": "stdout",
     "output_type": "stream",
     "text": [
      "[{'review_id': '27248', 'date': '2010-02-22', 'reviewer_id': '18328', 'city': 'austin', 'comments': 'Another fantastic stay! Sylvia is a great host.'}, {'review_id': '52212', 'date': '2010-06-12', 'reviewer_id': '21519', 'city': 'austin', 'comments': 'This was my second time staying with Sylvia and it was as lovely as the first. Extra thanks to Sylvia for offering to drive me to the grocery store and for being so understanding about a check out time mix up that was totally my fault. Sylvia is an excellent hostess and the apartment is gracious and charming. Thank you again, Sylvia :)'}, {'review_id': '78498089', 'date': '2016-06-07', 'reviewer_id': '116876', 'city': 'austin', 'comments': \"Sylvia's place is one of my favorites to stay in. It's always perfect and she was so communicative and helpful with my additional guest. Simply the best.\"}]\n"
     ]
    }
   ],
   "source": [
    "import csv \n",
    "comments = []\n",
    "with open('comments.csv','r',encoding='utf-8') as f:\n",
    "    reader = csv.reader(f)\n",
    "    heads = next(reader)\n",
    "    for row in reader:\n",
    "        comment = {}\n",
    "        for i in range(len(heads)):\n",
    "            comment[heads[i]]=row[i]\n",
    "        comments.append(comment)\n",
    "print(comments)"
   ]
  },
  {
   "cell_type": "markdown",
   "metadata": {},
   "source": [
    "##### (3)JSON格式\n",
    "\n",
    "JSON 语法是 JavaScript 对象表示语法的子集。\n",
    "\n",
    "数据在名称/值对中, \n",
    "    \n",
    "    key : value\n",
    "    \"name\" : \"Peter\"\n",
    "    \n",
    "数据由逗号分隔\n",
    "\n",
    "大括号 {} 保存对象\n",
    "\n",
    "中括号 \\[\\] 保存数组，数组可以包含多个对象\n",
    "\n",
    "数据类型\n",
    "\n",
    "- 数字（整数或浮点数）\n",
    "\n",
    "- 字符串（在双引号中）\n",
    "\n",
    "- 逻辑值（true 或 false）\n",
    "\n",
    "- 数组（在中括号中）\n",
    "\n",
    "- 对象（在大括号中）\n",
    "\n",
    "- 空 null\n",
    "\n",
    "|Python数据类型|Json数据类型|\n",
    "|:-:          |:-:  |\n",
    "|dict         |object    |\n",
    "|list, tuple  |array     |\n",
    "|str, unicode |string    |\n",
    "|int, float   |number    |\n",
    "|True         |true      |\n",
    "|False        |false     |\n",
    "|None         |null      |"
   ]
  },
  {
   "cell_type": "markdown",
   "metadata": {},
   "source": [
    "写json文件方法1"
   ]
  },
  {
   "cell_type": "code",
   "execution_count": 8,
   "metadata": {},
   "outputs": [],
   "source": [
    "#将数据作为一整个json字符串存入文件，适用于小数据量\n",
    "import json\n",
    "f = open('comments_one_json.json','w',encoding='utf-8')\n",
    "json.dump(comments,f,indent=4,ensure_ascii=False)\n",
    "f.close()"
   ]
  },
  {
   "cell_type": "markdown",
   "metadata": {},
   "source": [
    "读json文件方法1"
   ]
  },
  {
   "cell_type": "code",
   "execution_count": 19,
   "metadata": {},
   "outputs": [
    {
     "name": "stdout",
     "output_type": "stream",
     "text": [
      "[{'review_id': '27248', 'date': '2010-02-22', 'reviewer_id': '18328', 'city': 'austin', 'comments': 'Another fantastic stay! Sylvia is a great host.\\n'}, {'review_id': '52212', 'date': '2010-06-12', 'reviewer_id': '21519', 'city': 'austin', 'comments': 'This was my second time staying with Sylvia and it was as lovely as the first. Extra thanks to Sylvia for offering to drive me to the grocery store and for being so understanding about a check out time mix up that was totally my fault. Sylvia is an excellent hostess and the apartment is gracious and charming. Thank you again, Sylvia :)\\n'}, {'review_id': '78498089', 'date': '2016-06-07', 'reviewer_id': '116876', 'city': 'austin', 'comments': \"Sylvia's place is one of my favorites to stay in. It's always perfect and she was so communicative and helpful with my additional guest. Simply the best.\\n\"}]\n"
     ]
    }
   ],
   "source": [
    "import json\n",
    "f = open('comments_one_json.json','r',encoding='utf-8')\n",
    "comments = json.load(f)\n",
    "print(comments)"
   ]
  },
  {
   "cell_type": "markdown",
   "metadata": {},
   "source": [
    "写json文件方法2"
   ]
  },
  {
   "cell_type": "code",
   "execution_count": 20,
   "metadata": {},
   "outputs": [],
   "source": [
    "#对于数据量大的，如百MB或GB级别的，可以每行存一条json\n",
    "import json\n",
    "f = open('comments_multiple_json.json','w',encoding='utf-8')\n",
    "for comment in comments:\n",
    "    f.write(json.dumps(comment,ensure_ascii=False)+'\\n')\n",
    "f.close()"
   ]
  },
  {
   "cell_type": "markdown",
   "metadata": {},
   "source": [
    "读json文件方法2"
   ]
  },
  {
   "cell_type": "code",
   "execution_count": 21,
   "metadata": {},
   "outputs": [
    {
     "name": "stdout",
     "output_type": "stream",
     "text": [
      "[{'review_id': '27248', 'date': '2010-02-22', 'reviewer_id': '18328', 'city': 'austin', 'comments': 'Another fantastic stay! Sylvia is a great host.\\n'}, {'review_id': '52212', 'date': '2010-06-12', 'reviewer_id': '21519', 'city': 'austin', 'comments': 'This was my second time staying with Sylvia and it was as lovely as the first. Extra thanks to Sylvia for offering to drive me to the grocery store and for being so understanding about a check out time mix up that was totally my fault. Sylvia is an excellent hostess and the apartment is gracious and charming. Thank you again, Sylvia :)\\n'}, {'review_id': '78498089', 'date': '2016-06-07', 'reviewer_id': '116876', 'city': 'austin', 'comments': \"Sylvia's place is one of my favorites to stay in. It's always perfect and she was so communicative and helpful with my additional guest. Simply the best.\\n\"}]\n"
     ]
    }
   ],
   "source": [
    "import json\n",
    "f = open('comments_multiple_json.json','r',encoding='utf-8')\n",
    "comments = []\n",
    "for line in f:\n",
    "    comment = json.loads(line.strip()) #.strip()去除字符串末尾换行符\n",
    "    comments.append(comment)\n",
    "print(comments)"
   ]
  },
  {
   "cell_type": "markdown",
   "metadata": {},
   "source": [
    "##### (4)Pickle格式\n",
    "\n",
    "pickle模块实现了用于序列化和反序列化Python对象结构的二进制协议。\n",
    "\n",
    "“Pickling”是将Python对象层次结构转换为字节流的过程， “unpickling”是反向操作，将字节流（来自二进制文件或类似字节的对象）转换回对象层次结构。\n",
    "\n",
    "pickle模块对于错误或恶意构造的数据是不安全的。\n",
    "\n",
    "与json的差异：\n",
    "\n",
    "- JSON是一种文本序列化格式（它输出unicode文本，虽然大部分时间它被编码utf-8），而pickle是二进制序列化格式;\n",
    "\n",
    "- JSON是字面可读的，而pickle则不是;\n",
    "\n",
    "- JSON是可互操作的，并且在Python生态系统之外广泛使用，而pickle是特定于Python的;\n",
    "\n",
    "- JSON只能表示Python内置类型的子集，而不能表示自定义类; pickle可以表示极其庞大的Python类型；\n",
    "\n",
    "- pickle数据格式使用相对紧凑的二进制表示，数据压缩率相对比较高。"
   ]
  },
  {
   "cell_type": "markdown",
   "metadata": {},
   "source": [
    "写pickle文件"
   ]
  },
  {
   "cell_type": "code",
   "execution_count": 22,
   "metadata": {},
   "outputs": [],
   "source": [
    "import pickle\n",
    "f = open('comments.pickle','wb')\n",
    "pickle.dump(comments,f)\n",
    "f.close()"
   ]
  },
  {
   "cell_type": "markdown",
   "metadata": {},
   "source": [
    "读pickle文件"
   ]
  },
  {
   "cell_type": "code",
   "execution_count": 23,
   "metadata": {},
   "outputs": [
    {
     "name": "stdout",
     "output_type": "stream",
     "text": [
      "[{'review_id': '27248', 'date': '2010-02-22', 'reviewer_id': '18328', 'city': 'austin', 'comments': 'Another fantastic stay! Sylvia is a great host.\\n'}, {'review_id': '52212', 'date': '2010-06-12', 'reviewer_id': '21519', 'city': 'austin', 'comments': 'This was my second time staying with Sylvia and it was as lovely as the first. Extra thanks to Sylvia for offering to drive me to the grocery store and for being so understanding about a check out time mix up that was totally my fault. Sylvia is an excellent hostess and the apartment is gracious and charming. Thank you again, Sylvia :)\\n'}, {'review_id': '78498089', 'date': '2016-06-07', 'reviewer_id': '116876', 'city': 'austin', 'comments': \"Sylvia's place is one of my favorites to stay in. It's always perfect and she was so communicative and helpful with my additional guest. Simply the best.\\n\"}]\n"
     ]
    }
   ],
   "source": [
    "import pickle\n",
    "f = open('comments.pickle','rb')\n",
    "comments = pickle.load(f)\n",
    "print(comments)\n",
    "f.close()"
   ]
  },
  {
   "cell_type": "markdown",
   "metadata": {},
   "source": [
    "#### 3.练习"
   ]
  },
  {
   "cell_type": "markdown",
   "metadata": {},
   "source": [
    "(1) 将所有中文简体汉字以及对应的unicode码的十进制数写到文本文件中，每行包含汉字和对应的unicode码的十进制数。\n",
    "参考形式：\n",
    "\n",
    "19968 $\\qquad$ 一\n",
    "\n",
    "19969 $\\qquad$ 丁\n",
    "\n",
    "19970 $\\qquad$ 丂\n",
    "\n",
    "19971 $\\qquad$ 七\n",
    "\n",
    "...\n",
    "\n",
    "(2) 读取199801_source.txt，统计文本中出现的汉字频次，对汉字做降序排序；同时统计标点符号出现的频次，将单词词频和标点符号频次以json的形式分别写入两个文件。\n",
    "参考格式\n",
    "\n",
    "{'word1':count1, 'word2':count2, ...}\n",
    "\n",
    "{'punc':count1, 'punc':count2, ...}"
   ]
  },
  {
   "cell_type": "code",
   "execution_count": null,
   "metadata": {},
   "outputs": [],
   "source": []
  }
 ],
 "metadata": {
  "kernelspec": {
   "display_name": "deepwide",
   "language": "python",
   "name": "deepwide"
  },
  "language_info": {
   "codemirror_mode": {
    "name": "ipython",
    "version": 3
   },
   "file_extension": ".py",
   "mimetype": "text/x-python",
   "name": "python",
   "nbconvert_exporter": "python",
   "pygments_lexer": "ipython3",
   "version": "3.9.18"
  }
 },
 "nbformat": 4,
 "nbformat_minor": 2
}
