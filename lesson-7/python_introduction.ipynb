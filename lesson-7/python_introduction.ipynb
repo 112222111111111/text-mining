{
 "cells": [
  {
   "cell_type": "markdown",
   "metadata": {},
   "source": [
    "#### 1.编程方式"
   ]
  },
  {
   "cell_type": "markdown",
   "metadata": {},
   "source": [
    "##### （1）交互式编程"
   ]
  },
  {
   "cell_type": "code",
   "execution_count": 1,
   "metadata": {},
   "outputs": [
    {
     "name": "stdout",
     "output_type": "stream",
     "text": [
      "Hello, everybody!\n"
     ]
    }
   ],
   "source": [
    "print(\"Hello, everybody!\")"
   ]
  },
  {
   "cell_type": "markdown",
   "metadata": {},
   "source": [
    "##### （2）脚本编程\n",
    "\n",
    "test.py脚本中内容为：\n",
    "\n",
    "print(\"Hello, Python!\")\n",
    "\n",
    "编译环境中执行一下命令：\n",
    "\n",
    "python test.py"
   ]
  },
  {
   "cell_type": "markdown",
   "metadata": {},
   "source": [
    "#### 2. 标识符"
   ]
  },
  {
   "cell_type": "markdown",
   "metadata": {},
   "source": [
    "Python中，所有标识符可以包括英文、数字以及下划线(_)，但不能以数字开头。\n",
    "\n",
    "标识符是区分大小。\n",
    "\n",
    "以下划线开头的标识符是有特殊意义的。\n",
    "\n",
    "    以单下划线开头 _identify 的代表不能直接访问的类属性，需通过类提供的接口进行访问\n",
    "\n",
    "    以双下划线开头的 __identify 代表类的私有成员，以双下划线开头和结尾的 __identify__ 代表 Python 里特殊方法专用的标识，如 __init__() 代表类的构造函数。"
   ]
  },
  {
   "cell_type": "markdown",
   "metadata": {},
   "source": [
    "#### 3. 保留字\n",
    "\n",
    "| |\n",
    "|---- |----  |----      |----    |----     |---- |----   |----    | ----  |----   |\n",
    "| and | exec | not      | assert | finally | or  | break | for    | pass  | class |\n",
    "|from |print | continue | global | raise   | def | if    | return | del   | import|\n",
    "| try |elif  | in       |while   | else    |is   | with  |except  | lambda|yield  |"
   ]
  },
  {
   "cell_type": "markdown",
   "metadata": {},
   "source": [
    "#### 4. 缩进\n",
    "\n",
    "Python实用缩进表示模块，缩进的长度是可变的，但再同一代码块或脚本中，缩进长度和内容应该一致。一般使用四个空格符表示一个缩进。"
   ]
  },
  {
   "cell_type": "code",
   "execution_count": 2,
   "metadata": {},
   "outputs": [
    {
     "name": "stdout",
     "output_type": "stream",
     "text": [
      "small\n"
     ]
    }
   ],
   "source": [
    "'''\n",
    "缩进示例：\n",
    "'''\n",
    "c = 0\n",
    "if c < 5:\n",
    "    print(\"small\")\n",
    "else:\n",
    "    print(\"big\")"
   ]
  },
  {
   "cell_type": "markdown",
   "metadata": {},
   "source": [
    "跨行语句\n",
    "\n",
    "一般一行代码表示一条编程语句，但当一条语句过长一行显示不全时，也可以使用 \\ 将一条语句分为多行显示"
   ]
  },
  {
   "cell_type": "code",
   "execution_count": 3,
   "metadata": {},
   "outputs": [
    {
     "name": "stdout",
     "output_type": "stream",
     "text": [
      "hi, everybody, welcome to the world of NLP\n",
      "hi, everybody, welcome to the world of NLP\n"
     ]
    }
   ],
   "source": [
    "hi = \"hi, \"+\\\n",
    "     \"everybody, \"+\\\n",
    "     \"welcome to the world of NLP\"\n",
    "print(hi)\n",
    "\n",
    "hi = \"hi, \" + \"everybody, \" + \"welcome to the world of NLP\"\n",
    "print(hi)"
   ]
  },
  {
   "cell_type": "markdown",
   "metadata": {},
   "source": [
    "#### 5. 引号\n",
    "\n",
    "Python 可以使用引号 ' 、双引号 \" 、三引号 ''' 或 \"\"\" 来表示字符串，引号的开始与结束必须是相同。\n",
    "\n",
    "其中三引号可以由多行组成，编写多行文本的快捷语法，常用于文档字符串，在文件的特定地点，被当做注释。"
   ]
  },
  {
   "cell_type": "code",
   "execution_count": 4,
   "metadata": {},
   "outputs": [],
   "source": [
    "single_quoted_string = 'this is a string quoted by single quote'\n",
    "double_quote_string = \"this is a string quoted by double quote\"\n",
    "triple_quoted_string = \"\"\"this is a paragraph,\n",
    "which contains several sentences.\"\"\""
   ]
  },
  {
   "cell_type": "markdown",
   "metadata": {},
   "source": [
    "#### 6. 注释\n",
    "单行注释以 # 开头，可以是单行注释，也可以在语句 末尾"
   ]
  },
  {
   "cell_type": "code",
   "execution_count": 5,
   "metadata": {},
   "outputs": [
    {
     "name": "stdout",
     "output_type": "stream",
     "text": [
      "Hi\n"
     ]
    }
   ],
   "source": [
    "# this is an annotation\n",
    "print(\"Hi\") # this is another annotation"
   ]
  },
  {
   "cell_type": "markdown",
   "metadata": {},
   "source": [
    "多行注释使用三个单引号或三个双引号表示"
   ]
  },
  {
   "cell_type": "code",
   "execution_count": 6,
   "metadata": {},
   "outputs": [
    {
     "data": {
      "text/plain": [
       "'\\nannotation #1\\nannotation #2\\n'"
      ]
     },
     "execution_count": 6,
     "metadata": {},
     "output_type": "execute_result"
    }
   ],
   "source": [
    "'''\n",
    "annotation #1\n",
    "annotation #2\n",
    "'''\n",
    "\n",
    "\"\"\"\n",
    "annotation #1\n",
    "annotation #2\n",
    "\"\"\""
   ]
  },
  {
   "cell_type": "markdown",
   "metadata": {},
   "source": [
    "#### 7. 代码块\n",
    "\n",
    "if、while、def和class这样的复合语句，首行以关键字开始，以冒号(:)结束，该行之后的一行或多行代码构成代码组。\n",
    "\n",
    "我们将首行及后面的代码组称为一个子句(clause)。\n",
    "\n",
    "    if statement:\n",
    "        clauses\n",
    "    elif statement:\n",
    "        clauses\n",
    "    else:\n",
    "        clauses\n",
    "        \n",
    "    for(...):\n",
    "        clauses\n",
    "        \n",
    "    while(...):\n",
    "        clauses\n",
    "        \n",
    "    def():\n",
    "        clauses\n",
    "        \n",
    "    class():\n",
    "        clauses"
   ]
  },
  {
   "cell_type": "markdown",
   "metadata": {},
   "source": [
    "#### 8. 变量类型\n",
    "基于变量的数据类型，解释器会分配指定内存，并决定什么数据可以被存储在内存中。\n",
    "\n",
    "因此，变量可以指定不同的数据类型，这些变量可以存储整数，小数或字符。"
   ]
  },
  {
   "cell_type": "code",
   "execution_count": 7,
   "metadata": {},
   "outputs": [
    {
     "name": "stdout",
     "output_type": "stream",
     "text": [
      "0\n",
      "100.0\n",
      "John\n"
     ]
    }
   ],
   "source": [
    "c = 0 # 赋值整型变量\n",
    "weight = 100.0 # 浮点型\n",
    "string = \"John\" # 字符串\n",
    " \n",
    "print(c)\n",
    "print(weight)\n",
    "print(string)"
   ]
  },
  {
   "cell_type": "markdown",
   "metadata": {},
   "source": [
    "标准数据类型\n",
    "\n",
    "Python 定义了一些标准类型，用于存储各种类型的数据。\n",
    "\n",
    "Python有七个标准的数据类型：\n",
    "\n",
    "- (1) Numbers（数字），\n",
    "\n",
    "    int（有符号整型）\n",
    "\n",
    "    float（浮点型）\n",
    "\n",
    "    complex（复数）"
   ]
  },
  {
   "cell_type": "markdown",
   "metadata": {},
   "source": [
    "- (2) String（字符串）\n",
    "    \n",
    "    字符串或串(String)是由数字、字母、下划线组成的一串字符。\n",
    "    \n",
    "    从左到右索引默认0开始的\n",
    "    \n",
    "    从右到左索引默认-1开始的"
   ]
  },
  {
   "cell_type": "code",
   "execution_count": 8,
   "metadata": {},
   "outputs": [
    {
     "name": "stdout",
     "output_type": "stream",
     "text": [
      "Python\n",
      "P\n",
      "n\n",
      "th\n",
      "th\n",
      "PythonPython\n",
      "Hello, Python\n"
     ]
    }
   ],
   "source": [
    "s = \"Python\"\n",
    "print(s)\n",
    "print(s[0])\n",
    "print(s[-1])\n",
    "print(s[2:4])\n",
    "print(s[-4:-2])\n",
    "print(s*2)\n",
    "print(\"Hello, \"+s)"
   ]
  },
  {
   "cell_type": "markdown",
   "metadata": {},
   "source": [
    "- (3)List（列表）\n",
    "\n",
    "List（列表） 是 Python 中使用最频繁的数据类型。\n",
    "\n",
    "列表可以完成大多数集合类的数据结构实现。它支持字符，数字，字符串甚至可以包含列表、字典等复合容器。\n",
    "\n",
    "列表用 [ ] 标识，是 python 最通用的复合数据类型。\n",
    "\n",
    "列表中值的切割也可以用到变量 [头下标:尾下标] ，就可以截取相应的列表，从左到右索引默认 0 开始，从右到左索引默认 -1 开始，下标可以为空表示取到头或尾。"
   ]
  },
  {
   "cell_type": "code",
   "execution_count": 9,
   "metadata": {},
   "outputs": [
    {
     "name": "stdout",
     "output_type": "stream",
     "text": [
      "['Hello', 2021, 'good', 'luck']\n",
      "Hello\n",
      "[2021, 'good']\n",
      "['good', 'luck']\n",
      "['Hello', 2021, 'good', 'luck', 'Hello', 2021, 'good', 'luck']\n",
      "['Hello', 2021, 'good', 'luck', 'Hello', 2021, 'good', 'luck']\n"
     ]
    }
   ],
   "source": [
    "list_demo = [ \"Hello\", 2021, \"good\", \"luck\" ]\n",
    " \n",
    "print(list_demo)            # 输出完整列表\n",
    "print(list_demo[0])         # 输出列表的第一个元素\n",
    "print(list_demo[1:3])       # 输出第二个至第三个元素 \n",
    "print(list_demo[2:])        # 输出从第三个开始至列表末尾的所有元素\n",
    "print(list_demo * 2)        # 输出列表两次\n",
    "print(list_demo + list_demo)# 打印组合的列表"
   ]
  },
  {
   "cell_type": "markdown",
   "metadata": {},
   "source": [
    "- (4)Tuple（元组）\n",
    "\n",
    "元组类似于 List（列表), 元组用 () 标识。内部元素用逗号隔开, 但是元组不能二次赋值，相当于只读列表。"
   ]
  },
  {
   "cell_type": "code",
   "execution_count": 10,
   "metadata": {},
   "outputs": [],
   "source": [
    "tuple = ( 'Hello', 2021, 0.75)\n",
    "list = ['Hello', 2021, 0.75]\n",
    "#tuple[2] = 1000    # 元组中对元素赋值是非法操作\n",
    "list[2] = 1000     # 列表中对元素赋值是合法操作"
   ]
  },
  {
   "cell_type": "code",
   "execution_count": 11,
   "metadata": {},
   "outputs": [
    {
     "data": {
      "text/plain": [
       "['Hello', 2021, 1000]"
      ]
     },
     "execution_count": 11,
     "metadata": {},
     "output_type": "execute_result"
    }
   ],
   "source": [
    "list"
   ]
  },
  {
   "cell_type": "markdown",
   "metadata": {},
   "source": [
    "- (5)Dictionary（字典）\n",
    "字典(dictionary)是除列表以外python之中最灵活的内置数据结构类型。\n",
    "\n",
    "列表是有序的对象集合，字典是无序的对象集合。\n",
    "\n",
    "两者之间的区别在于：字典当中的元素是通过键来存取的，而不是通过偏移存取。\n",
    "\n",
    "字典用\"{ }\"标识。字典由索引(key)和对应的值value组成。"
   ]
  },
  {
   "cell_type": "code",
   "execution_count": 12,
   "metadata": {},
   "outputs": [
    {
     "name": "stdout",
     "output_type": "stream",
     "text": [
      "This is one\n",
      "This is two\n",
      "{'k1': 'v1', 'k2': 'v2', 'k3': 'v3'}\n",
      "dict_keys(['k1', 'k2', 'k3'])\n",
      "dict_values(['v1', 'v2', 'v3'])\n"
     ]
    }
   ],
   "source": [
    "dict_1 = {}\n",
    "dict_1['one'] = \"This is one\"\n",
    "dict_1[2] = \"This is two\"\n",
    " \n",
    "dict_2 = {'k1': 'v1','k2':'v2','k3': 'v3'}\n",
    " \n",
    "\n",
    "print(dict_1['one'])         # 输出键为'one' 的值\n",
    "print(dict_1[2])              # 输出键为 2 的值\n",
    "print(dict_2)             # 输出完整的字典\n",
    "print(dict_2.keys())      # 输出所有键\n",
    "print(dict_2.values())   # 输出所有值"
   ]
  },
  {
   "cell_type": "markdown",
   "metadata": {},
   "source": [
    "- (6)集合\n",
    "\n",
    "    集合，存放不重复元素的容器\n",
    "    通常与list配合使用"
   ]
  },
  {
   "cell_type": "markdown",
   "metadata": {},
   "source": [
    "- (7)布尔类型\n",
    "\n",
    "    True False"
   ]
  },
  {
   "cell_type": "code",
   "execution_count": 13,
   "metadata": {},
   "outputs": [
    {
     "name": "stdout",
     "output_type": "stream",
     "text": [
      "False\n",
      "True\n"
     ]
    }
   ],
   "source": [
    "a = 3\n",
    "b = 5\n",
    "print(bool(a>b))  # False\n",
    "print(bool(a<b))  # True"
   ]
  },
  {
   "cell_type": "markdown",
   "metadata": {},
   "source": [
    "#### 9.数据类型转换"
   ]
  },
  {
   "cell_type": "code",
   "execution_count": 14,
   "metadata": {},
   "outputs": [
    {
     "name": "stdout",
     "output_type": "stream",
     "text": [
      "1\n",
      "1\n",
      "1.0\n",
      "123456789\n"
     ]
    }
   ],
   "source": [
    "#转换为整型\n",
    "a = 1.0 \n",
    "print(int(a))\n",
    "\n",
    "a = \"1\"\n",
    "print(int(a))\n",
    "\n",
    "a = 1\n",
    "print(float(a))\n",
    "\n",
    "a = 123456789\n",
    "print(str(a))"
   ]
  },
  {
   "cell_type": "markdown",
   "metadata": {},
   "source": [
    "#### 10.运算符 \n",
    "+\n",
    "\n",
    "-\n",
    "\n",
    "*\n",
    "\n",
    "/\n",
    "\n",
    "%  取模--返回除法的余数\n",
    "\n",
    "** 幂次\n",
    "\n",
    "// 取整--返回商的整数部分"
   ]
  },
  {
   "cell_type": "markdown",
   "metadata": {},
   "source": [
    "#### 11.比较运算符\n",
    "\n",
    "== 比较对象是否相等\n",
    "\n",
    "!= 比较两个对象是否不相等\n",
    "\n",
    "\\>  大于\n",
    "\n",
    "<  小于\n",
    "\n",
    "\\>= 大于或等于\n",
    "\n",
    "<= 小于或等于"
   ]
  },
  {
   "cell_type": "markdown",
   "metadata": {},
   "source": [
    "#### 12.赋值运算符\n",
    "\n",
    "    =  \n",
    "\n",
    "    +=     a+=c等效于a=a+c\n",
    "\n",
    "    -=     a-=c等效于a=a-c\n",
    "\n",
    "    *=     a*=c等效于a=a*c\n",
    "\n",
    "    /=     a/=c等效于a=a/c\n",
    "\n",
    "    %=     a%=c等效于a=a%c\n",
    "\n",
    "    **=     a**=c等效于a=a**c\n",
    "\n",
    "    //=     a//=c等效于a=a//c"
   ]
  },
  {
   "cell_type": "markdown",
   "metadata": {},
   "source": [
    "#### 13.位预算符（对2进制编码进行位操作）\n",
    "    &   与运算\n",
    "    |   或运算\n",
    "    ~   非运算\n",
    "    <<  向左移位\n",
    "    >>  向右移位"
   ]
  },
  {
   "cell_type": "markdown",
   "metadata": {},
   "source": [
    "#### 14. 逻辑运算符\n",
    "    and  与\n",
    "    or   或\n",
    "    not  非"
   ]
  },
  {
   "cell_type": "markdown",
   "metadata": {},
   "source": [
    "#### 15.包含判断\n",
    "    in    判断x是否在y中，在则返回True，否则返回False\n",
    "    not in     判断x是否不在y中，不在则返回True，否则返回False  "
   ]
  },
  {
   "cell_type": "markdown",
   "metadata": {},
   "source": [
    "#### 16.循环与条件语句"
   ]
  },
  {
   "cell_type": "code",
   "execution_count": 15,
   "metadata": {},
   "outputs": [
    {
     "name": "stdout",
     "output_type": "stream",
     "text": [
      "Small!\n",
      "Small!\n",
      "Big!\n",
      "Big!\n",
      "Right!\n"
     ]
    }
   ],
   "source": [
    "nums = [1,2,7,8,5]\n",
    "for num in nums:\n",
    "    if num == 5:            \n",
    "        print('Right!')        \n",
    "    elif num < 5:\n",
    "        print('Small!')\n",
    "    else:\n",
    "        print('Big!')     "
   ]
  },
  {
   "cell_type": "code",
   "execution_count": 16,
   "metadata": {},
   "outputs": [
    {
     "name": "stdout",
     "output_type": "stream",
     "text": [
      "Small!\n",
      "Small!\n",
      "Big!\n",
      "Big!\n",
      "Right!\n"
     ]
    }
   ],
   "source": [
    "nums = [1,2,7,8,5]\n",
    "i = 0\n",
    "while(i<len(nums) and nums[i]>0):\n",
    "    if nums[i] == 5:            \n",
    "        print('Right!')        \n",
    "    elif nums[i] < 5:\n",
    "        print('Small!')\n",
    "    else:\n",
    "        print('Big!')  \n",
    "    i+=1   "
   ]
  },
  {
   "cell_type": "markdown",
   "metadata": {},
   "source": [
    "Python break语句，与在C语言中的功能类似，可以打破最内层的循环。\n",
    "\n",
    "break语句用来终止while和for循环，即循环条件没有False条件或者序列还没被完全递归完，也会停止执行循环语句。\n",
    "\n",
    "如果使用嵌套循环，break语句将停止执行最深层的循环，并开始执行最深层循环外的下一行代码。\n",
    "\n",
    "Python continue语句可以跳出本次循环，而break跳出整个循环。\n",
    "\n",
    "continue 语句用来跳过当前循环的剩余语句，然后继续进行下一轮循环。\n",
    "\n",
    "continue语句用在while和for循环中。\n",
    "\n",
    "Python的pass是空语句，是为了保持程序结构的完整性。\n",
    "\n",
    "pass不做任何事情，一般用做占位语句。"
   ]
  },
  {
   "cell_type": "markdown",
   "metadata": {},
   "source": [
    "#### 17.练习：\n",
    "- (1) 打印出所有的\"水仙花数\"，所谓\"水仙花数\"是指一个三位数，其各位数字立方和等于该数本身。例如：153是一个\"水仙花数\"，因为153=1的三次方＋5的三次方＋3的三次方。 程序实现：利用for循环控制100-999个数，每个数分解出个位，十位，百位。\n",
    "\n",
    "- (2) 输入一个数字，判断它是不是回文数，是的话返回True，否则返回False。例如，12321是回文数，个位与万位相同，十位与千位相同。"
   ]
  },
  {
   "cell_type": "code",
   "execution_count": 1,
   "metadata": {},
   "outputs": [
    {
     "name": "stdout",
     "output_type": "stream",
     "text": [
      "12\n"
     ]
    }
   ],
   "source": [
    "a = input(\"请输入一个数字\") \n",
    "print(a)"
   ]
  },
  {
   "cell_type": "code",
   "execution_count": 2,
   "metadata": {},
   "outputs": [
    {
     "name": "stdout",
     "output_type": "stream",
     "text": [
      "153\n",
      "370\n",
      "371\n",
      "407\n"
     ]
    }
   ],
   "source": [
    "for i in range(100,1000):\n",
    "    str_i = str(i)\n",
    "    first = int(str_i[0])\n",
    "    second = int(str_i[1])\n",
    "    third = int(str_i[2])\n",
    "    if i==(first**3 + second**3 + third **3):\n",
    "        print(i)"
   ]
  },
  {
   "cell_type": "code",
   "execution_count": 1,
   "metadata": {},
   "outputs": [
    {
     "name": "stdout",
     "output_type": "stream",
     "text": [
      "输入的不是回文数\n",
      "\n",
      "输入的不是数字\n",
      "输入的不是回文数\n",
      "\n",
      "输入的是回文数\n",
      "\n",
      "Bye\n"
     ]
    }
   ],
   "source": [
    "def is_number(s):\n",
    "    try:\n",
    "        float(s)\n",
    "        return True\n",
    "    except ValueError:\n",
    "        pass\n",
    " \n",
    "    try:\n",
    "        import unicodedata\n",
    "        unicodedata.numeric(s)\n",
    "        return True\n",
    "    except (TypeError, ValueError):\n",
    "        pass\n",
    " \n",
    "    return False\n",
    "\n",
    "if __name__ == \"__main__\":\n",
    "    num = input(\"请输入一个数字，退出请输入exit\\n\")\n",
    "    while num:\n",
    "        if num==\"exit\":  #判断是否需要退出while循环\n",
    "            print(\"Bye\")\n",
    "            break\n",
    "        \n",
    "        num_str = str(num)\n",
    "        if not is_number(num):\n",
    "            print(\"输入的不是数字\")\n",
    "        else:\n",
    "            num_len = len(num_str)\n",
    "            flag = True\n",
    "            if num_len>1:\n",
    "                for i in range(0,num_len%2):\n",
    "                    if num_str[i]!=num_str[num_len-i-1]:\n",
    "                        flag=False\n",
    "                        break\n",
    "            if flag:\n",
    "                print(\"输入的是回文数\\n\")\n",
    "            else:\n",
    "                print(\"输入的不是回文数\\n\")\n",
    "        \n",
    "        num = input(\"请重新输入一个数字，退出请输入exit\\n\")  #请求下一轮输入"
   ]
  },
  {
   "cell_type": "code",
   "execution_count": null,
   "metadata": {},
   "outputs": [],
   "source": []
  }
 ],
 "metadata": {
  "kernelspec": {
   "display_name": "Python 3",
   "language": "python",
   "name": "python3"
  },
  "language_info": {
   "codemirror_mode": {
    "name": "ipython",
    "version": 3
   },
   "file_extension": ".py",
   "mimetype": "text/x-python",
   "name": "python",
   "nbconvert_exporter": "python",
   "pygments_lexer": "ipython3",
   "version": "3.6.5"
  }
 },
 "nbformat": 4,
 "nbformat_minor": 2
}
