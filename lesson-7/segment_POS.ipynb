{
 "cells": [
  {
   "cell_type": "markdown",
   "metadata": {},
   "source": [
    "#### FMM(Forward Maximum Match)"
   ]
  },
  {
   "cell_type": "code",
   "execution_count": 1,
   "metadata": {},
   "outputs": [],
   "source": [
    "def FMM_func(user_dict, sentence):\n",
    "    \"\"\"\n",
    "    正向最大匹配（FMM）\n",
    "    :param user_dict: 词典\n",
    "    :param sentence: 句子\n",
    "    \"\"\"\n",
    "    # 词典中最长词长度\n",
    "    max_len = max([len(item) for item in user_dict])\n",
    "    start = 0\n",
    "    while start != len(sentence):\n",
    "        index = start+max_len\n",
    "        if index>len(sentence):\n",
    "            index = len(sentence)\n",
    "        for i in range(max_len):\n",
    "            if (sentence[start:index] in user_dict) or (len(sentence[start:index])==1):\n",
    "                print(sentence[start:index], end='/')\n",
    "                start = index\n",
    "                break\n",
    "            index += -1"
   ]
  },
  {
   "cell_type": "code",
   "execution_count": 2,
   "metadata": {},
   "outputs": [
    {
     "name": "stdout",
     "output_type": "stream",
     "text": [
      "我们/在野/生动/物/园/玩/None\n"
     ]
    }
   ],
   "source": [
    "user_dict = ['我们', '在', '在野', '生动', '野生', '动物园', '野生动物园', '物','园','玩']\n",
    "sentence = '我们在野生动物园玩'\n",
    "sentence_segmented = FMM_func(user_dict, sentence)\n",
    "print(sentence_segmented)"
   ]
  },
  {
   "cell_type": "markdown",
   "metadata": {},
   "source": [
    "#### BMM(Backforward Maximum Match)"
   ]
  },
  {
   "cell_type": "code",
   "execution_count": 3,
   "metadata": {},
   "outputs": [],
   "source": [
    "def BMM_func(user_dict, sentence):\n",
    "    \"\"\"\n",
    "    反向最大匹配（BMM）\n",
    "    :param user_dict:词典\n",
    "    :param sentence:句子\n",
    "    \"\"\"\n",
    "    # 词典中最长词长度\n",
    "    max_len = max([len(item) for item in user_dict])\n",
    "    result = []\n",
    "    start = len(sentence)\n",
    "    while start != 0:\n",
    "        index = start - max_len\n",
    "        if index < 0:\n",
    "            index = 0\n",
    "        for i in range(max_len):\n",
    "            if (sentence[index:start] in user_dict) or (len(sentence[index:start])==1):\n",
    "                result.append(sentence[index:start])\n",
    "                start = index\n",
    "                break\n",
    "            index += 1\n",
    "    print(result)\n",
    "    for i in result[::-1]:\n",
    "        print(i, end='/')"
   ]
  },
  {
   "cell_type": "code",
   "execution_count": 4,
   "metadata": {},
   "outputs": [
    {
     "name": "stdout",
     "output_type": "stream",
     "text": [
      "['玩', '野生动物园', '在', '们', '我']\n",
      "我/们/在/野生动物园/玩/None\n"
     ]
    }
   ],
   "source": [
    "user_dict = ['在', '在野', '生动', '野生', '动物园', '野生动物园', '物','园','玩']\n",
    "sentence = '我们在野生动物园玩'\n",
    "sentence_segmented = BMM_func(user_dict, sentence)\n",
    "print(sentence_segmented)"
   ]
  },
  {
   "cell_type": "markdown",
   "metadata": {},
   "source": [
    "#### 练习题：\n",
    "\n",
    "- （1）实现双向最大匹配分词方法，\n",
    "- （2）从人民日报分词语料（199801.txt）中读取所有的词，把这些词作为一个字典，\n",
    "- （3） 将人民日报分词语料去除每一行的编号，还原成未分词的原始语句，\n",
    "- （4）根据用户字典，使用双向最大匹配分词方法实现对人民日报语料的分词，并分析实际分词效果。"
   ]
  },
  {
   "cell_type": "code",
   "execution_count": 5,
   "metadata": {},
   "outputs": [],
   "source": [
    "#### 双向最大匹配分词方法实现\n",
    "class BiMM():\n",
    "    def __init__(self, user_dict):\n",
    "        self.user_dict = user_dict\n",
    "    def cut(self, sentence):\n",
    "        \"\"\"\n",
    "        正向最大匹配（FMM）\n",
    "        :param user_dict: 词典\n",
    "        :param sentence: 句子\n",
    "        \"\"\"\n",
    "        # 词典中最长词长度\n",
    "        max_len = max([len(item) for item in self.user_dict])\n",
    "        start = 0\n",
    "        f_single_word_num = 0 #单字词数量计数\n",
    "        f_segs = [] #存储分词结果\n",
    "        while start != len(sentence):\n",
    "            index = start+max_len\n",
    "            if index>len(sentence):\n",
    "                index = len(sentence)\n",
    "            for i in range(max_len):\n",
    "                if (sentence[start:index] in self.user_dict) or (len(sentence[start:index])==1):\n",
    "                    f_segs.append(sentence[start:index])\n",
    "                    if index-start==1:\n",
    "                        f_single_word_num+=1\n",
    "                    #print(sentence[start:index], end='/')\n",
    "                    start = index\n",
    "                    break\n",
    "                index += -1\n",
    "        \"\"\"\n",
    "        反向最大匹配（BMM）\n",
    "        :param user_dict:词典\n",
    "        :param sentence:句子\n",
    "        \"\"\"\n",
    "        result = [] #暂存分词结果\n",
    "        b_segs = [] #存储分词结果\n",
    "        b_single_word_num = 0 #单字词数量计数\n",
    "        start = len(sentence)\n",
    "        while start != 0:\n",
    "            index = start - max_len\n",
    "            if index < 0:\n",
    "                index = 0\n",
    "            for i in range(max_len):\n",
    "                #print(sentence[index:start])\n",
    "                if (sentence[index:start] in self.user_dict) or (len(sentence[index:start])==1):\n",
    "                    result.append(sentence[index:start])\n",
    "                    if start-index == 1:\n",
    "                        b_single_word_num+=1\n",
    "                    start = index\n",
    "                    break\n",
    "                index += 1\n",
    "        b_segs = result[::-1]\n",
    "    \n",
    "        \"\"\"\n",
    "        双向最大匹配\n",
    "        \"\"\"\n",
    "        if len(f_segs)<len(b_segs):\n",
    "            return f_segs\n",
    "        elif len(f_segs)>len(b_segs):\n",
    "            return b_segs\n",
    "        else:\n",
    "            if f_single_word_num>b_single_word_num:\n",
    "                return b_segs\n",
    "            else:\n",
    "                return f_segs"
   ]
  },
  {
   "cell_type": "code",
   "execution_count": 6,
   "metadata": {},
   "outputs": [
    {
     "name": "stdout",
     "output_type": "stream",
     "text": [
      "['我们', '在', '野生动物园', '玩']\n"
     ]
    }
   ],
   "source": [
    "#测试双向最大匹配分词方法\n",
    "user_dict = ['我们','在', '在野', '生动', '野生', '动物园', '野生动物园', '物','园','玩']\n",
    "sentence = '我们在野生动物园玩'\n",
    "bimm = BiMM(user_dict)\n",
    "print(bimm.cut(sentence))"
   ]
  },
  {
   "cell_type": "code",
   "execution_count": 11,
   "metadata": {},
   "outputs": [
    {
     "name": "stdout",
     "output_type": "stream",
     "text": [
      "56482 47 22111\n"
     ]
    }
   ],
   "source": [
    "#从人民日报分词语料中读取分词数据，并构建词典\n",
    "#将人民日报分词语料还原成原文\n",
    "ribao_dict = [] #语料中出现的所有词\n",
    "ribao_dict_sorted = [] #过滤掉低频词后的词典\n",
    "yuanwen = [] #存储语料原文\n",
    "punctuation = []  #存储标点符号\n",
    "c = 0\n",
    "with open(\"D:/teaching/text mining-2022/03-分词与词性标注/199801.txt\",\"r\",encoding=\"utf-8\") as fr, \\\n",
    "open(\"D:/teaching/text mining-2022/03-分词与词性标注/199801_source.txt\",\"w\",encoding=\"utf-8\") as fw:\n",
    "    for line in fr:\n",
    "        #if c > 100:\n",
    "        #    break\n",
    "        ls = line.strip().split('  ')\n",
    "        line_segs = []\n",
    "        for i in range(1,len(ls)):\n",
    "            #print(ls[i])\n",
    "            #if '/' in ls[i]:\n",
    "            end_idx = ls[i].index('/')\n",
    "            line_segs.append(ls[i][:end_idx])\n",
    "            ribao_dict.append(ls[i][:end_idx])\n",
    "        \n",
    "            if ls[i].endswith('/w'):\n",
    "                punctuation.append(ls[i][:end_idx])\n",
    "        fw.write(''.join(line_segs)+'\\n')\n",
    "        yuanwen.append(''.join(line_segs))\n",
    "        #c+=1\n",
    "word_count_dict = {}\n",
    "for word in ribao_dict:\n",
    "    if word not in word_count_dict:\n",
    "        word_count_dict[word]=1\n",
    "    else:\n",
    "        word_count_dict[word]+=1\n",
    "sorted_word_count = sorted(word_count_dict.items(), key = lambda item:item[1], reverse=True)\n",
    "\n",
    "#保存出现频次大于2的词，存入词典\n",
    "for k,v in sorted_word_count:\n",
    "    if v>2:\n",
    "        ribao_dict_sorted.append(k)\n",
    "ribao_dict_set = set(ribao_dict)\n",
    "punctuation = set(punctuation)\n",
    "print(len(ribao_dict_set),len(punctuation), len(ribao_dict_sorted))"
   ]
  },
  {
   "cell_type": "code",
   "execution_count": 12,
   "metadata": {},
   "outputs": [
    {
     "data": {
      "text/plain": [
       "['迈向', '新', '世纪']"
      ]
     },
     "execution_count": 12,
     "metadata": {},
     "output_type": "execute_result"
    }
   ],
   "source": [
    "#使用新词典测试双向最大匹配分词方法\n",
    "bimm = BiMM(ribao_dict_sorted)\n",
    "bimm.cut(\"迈向新世纪\")"
   ]
  },
  {
   "cell_type": "code",
   "execution_count": null,
   "metadata": {},
   "outputs": [
    {
     "name": "stderr",
     "output_type": "stream",
     "text": [
      "segging:  20%|████████████▎                                                  | 4528/23064 [11:18:49<2:25:32,  2.12it/s]"
     ]
    }
   ],
   "source": [
    "import time\n",
    "from tqdm import tqdm #进度条线上模块\n",
    "time_start = time.time() #计时\n",
    "source_text = []\n",
    "with open(\"D:/teaching/text mining-2022/03-分词与词性标注/199801_source.txt\",\"r\",encoding=\"utf-8\") as fr:\n",
    "    for line in fr:\n",
    "        source_text.append(line.strip())\n",
    "\n",
    "bimm = BiMM(ribao_dict_sorted)\n",
    "with open(\"D:/teaching/text mining-2022/03-分词与词性标注/199801_source_segs.txt\",\"w\",encoding=\"utf-8\") as fw:\n",
    "    for t in tqdm(range(len(source_text)),desc = 'segging'):\n",
    "        text = source_text[t]  \n",
    "        start_idx = 0\n",
    "        Bi_segs = []\n",
    "        flag = True\n",
    "        for idx in range(len(text)):\n",
    "            if text[idx] in punctuation: #有标点符号的，先根据标点符号节分句子\n",
    "                Bi_segs.extend(bimm.cut(text[start_idx:idx+1]))\n",
    "                start_idx = idx+1\n",
    "                flag = False\n",
    "        if flag:\n",
    "            Bi_segs.extend(bimm.cut(text))\n",
    "        fw.write('/  '.join(Bi_segs)+'\\n')\n",
    "time_end = time.time()\n",
    "print(time_end-time_start)"
   ]
  },
  {
   "cell_type": "code",
   "execution_count": null,
   "metadata": {},
   "outputs": [],
   "source": []
  }
 ],
 "metadata": {
  "kernelspec": {
   "display_name": "Python 3",
   "language": "python",
   "name": "python3"
  },
  "language_info": {
   "codemirror_mode": {
    "name": "ipython",
    "version": 3
   },
   "file_extension": ".py",
   "mimetype": "text/x-python",
   "name": "python",
   "nbconvert_exporter": "python",
   "pygments_lexer": "ipython3",
   "version": "3.6.5"
  }
 },
 "nbformat": 4,
 "nbformat_minor": 2
}
